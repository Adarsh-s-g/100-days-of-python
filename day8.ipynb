{
  "nbformat": 4,
  "nbformat_minor": 0,
  "metadata": {
    "colab": {
      "provenance": [],
      "authorship_tag": "ABX9TyMOalAUkMpMifI/gqa4FUI4",
      "include_colab_link": true
    },
    "kernelspec": {
      "name": "python3",
      "display_name": "Python 3"
    },
    "language_info": {
      "name": "python"
    }
  },
  "cells": [
    {
      "cell_type": "markdown",
      "metadata": {
        "id": "view-in-github",
        "colab_type": "text"
      },
      "source": [
        "<a href=\"https://colab.research.google.com/github/Adarsh-s-g/100-days-of-python/blob/main/day8.ipynb\" target=\"_parent\"><img src=\"https://colab.research.google.com/assets/colab-badge.svg\" alt=\"Open In Colab\"/></a>"
      ]
    },
    {
      "cell_type": "code",
      "execution_count": 5,
      "metadata": {
        "colab": {
          "base_uri": "https://localhost:8080/"
        },
        "id": "E-OIJt5wi5b6",
        "outputId": "d147a958-af18-461d-ee4c-925051a8dfa2"
      },
      "outputs": [
        {
          "output_type": "stream",
          "name": "stdout",
          "text": [
            "Enter your name->c\n",
            "Enter the bid->$50\n",
            "are there any other bidders yes/no ->no\n",
            "The winner is b with bid 200 $\n"
          ]
        }
      ],
      "source": [
        "# 100 days of python day\n",
        "# bid game\n",
        "from google.colab import output\n",
        "output.clear()\n",
        "stop=False\n",
        "def fun(bids):\n",
        "  n=''\n",
        "  b=0\n",
        "  for i in bids:\n",
        "    bid_amt=bids[i]\n",
        "    if  bid_amt>b:\n",
        "      b=bid_amt\n",
        "      n=i\n",
        "  print(f'The winner is {n} with bid {b} $')\n",
        "# while stop != True:\n",
        "#   name=input('Enter your name->')\n",
        "#   bid=int(input('Enter the bid->$'))\n",
        "#   any=input('are there any other bidders yes/no ->')\n",
        "#   if bid>b:\n",
        "#     b=bid\n",
        "#     n=name\n",
        "#   if any=='yes':\n",
        "#     output.clear()\n",
        "#   else :\n",
        "#     stop=True\n",
        "# print(f'The winner is {n} with bid {b} $')\n",
        "\n",
        "bids={}\n",
        "while stop != True:\n",
        "  name=input('Enter your name->')\n",
        "  price=int(input('Enter the bid->$'))\n",
        "  bids[name]=price\n",
        "  any=input('are there any other bidders yes/no ->')\n",
        "  if any=='yes':\n",
        "    output.clear()\n",
        "  else :\n",
        "    output.clear()\n",
        "    stop=True\n",
        "fun(bids)\n",
        "\n",
        "\n",
        "\n",
        "\n",
        "\n",
        "\n"
      ]
    },
    {
      "cell_type": "code",
      "source": [],
      "metadata": {
        "id": "V6luCWHJl-xK"
      },
      "execution_count": null,
      "outputs": []
    }
  ]
}