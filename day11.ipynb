{
  "nbformat": 4,
  "nbformat_minor": 0,
  "metadata": {
    "colab": {
      "provenance": [],
      "authorship_tag": "ABX9TyOU4v0tH7ey+FNflTU3nqK6",
      "include_colab_link": true
    },
    "kernelspec": {
      "name": "python3",
      "display_name": "Python 3"
    },
    "language_info": {
      "name": "python"
    }
  },
  "cells": [
    {
      "cell_type": "markdown",
      "metadata": {
        "id": "view-in-github",
        "colab_type": "text"
      },
      "source": [
        "<a href=\"https://colab.research.google.com/github/Adarsh-s-g/100-days-of-python/blob/main/day11.ipynb\" target=\"_parent\"><img src=\"https://colab.research.google.com/assets/colab-badge.svg\" alt=\"Open In Colab\"/></a>"
      ]
    },
    {
      "cell_type": "code",
      "execution_count": 8,
      "metadata": {
        "colab": {
          "base_uri": "https://localhost:8080/"
        },
        "id": "E-OIJt5wi5b6",
        "outputId": "9b1eb1e2-9d3d-449d-90dc-12414da0807e"
      },
      "outputs": [
        {
          "output_type": "stream",
          "name": "stdout",
          "text": [
            "select level easy or hard ->hard\n",
            "I'm thinking of a number between 1 to 100\n",
            "You have 5 attempts left\n",
            "Guess the number ->50\n",
            "Too low\n",
            "You have 4 attempts left\n",
            "Guess the number ->75\n",
            "Too High\n",
            "You have 3 attempts left\n",
            "Guess the number ->65\n",
            "Too High\n",
            "You have 2 attempts left\n",
            "Guess the number ->58\n",
            "Too low\n",
            "You have 1 attempts left\n",
            "Guess the number ->62\n",
            "Too High\n",
            "Game over you have 0 attempts left\n"
          ]
        }
      ],
      "source": [
        "# 100 days of python day 11\n",
        "# Guessing game\n",
        "def guessing_game(attempts):\n",
        "  game_over=False\n",
        "  while game_over!=True:\n",
        "    print(f'You have {attempts} attempts left')\n",
        "    user_input=int(input(\"Guess the number ->\"))\n",
        "    if user_input>og_num:\n",
        "      print('Too High')\n",
        "      attempts-=1\n",
        "    elif user_input<og_num:\n",
        "      print('Too low')\n",
        "      attempts-=1\n",
        "    elif user_input==og_num:\n",
        "      print('You have guessed the correct number')\n",
        "      game_over=True\n",
        "    else:\n",
        "      print('Invalid')\n",
        "    if attempts==0:\n",
        "      print('Game over you have 0 attempts left')\n",
        "      game_over=True\n",
        "\n",
        "number=[]\n",
        "for i in range(1,101):\n",
        "  number.append(i)\n",
        "import random\n",
        "og_num=random.choice(number)\n",
        "easy_or_hard=input('select level easy or hard ->')\n",
        "print(\"I'm thinking of a number between 1 to 100\" )\n",
        "if easy_or_hard=='easy':\n",
        "  guessing_game(10)\n",
        "else:\n",
        "  guessing_game(5)\n",
        "\n",
        "\n",
        "\n",
        "\n"
      ]
    },
    {
      "cell_type": "code",
      "source": [],
      "metadata": {
        "id": "V6luCWHJl-xK"
      },
      "execution_count": null,
      "outputs": []
    }
  ]
}