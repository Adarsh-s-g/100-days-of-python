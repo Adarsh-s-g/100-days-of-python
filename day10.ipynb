{
  "nbformat": 4,
  "nbformat_minor": 0,
  "metadata": {
    "colab": {
      "provenance": [],
      "authorship_tag": "ABX9TyO6yFBwxrLlVHkpml9VMNZh",
      "include_colab_link": true
    },
    "kernelspec": {
      "name": "python3",
      "display_name": "Python 3"
    },
    "language_info": {
      "name": "python"
    }
  },
  "cells": [
    {
      "cell_type": "markdown",
      "metadata": {
        "id": "view-in-github",
        "colab_type": "text"
      },
      "source": [
        "<a href=\"https://colab.research.google.com/github/Adarsh-s-g/100-days-of-python/blob/main/day10.ipynb\" target=\"_parent\"><img src=\"https://colab.research.google.com/assets/colab-badge.svg\" alt=\"Open In Colab\"/></a>"
      ]
    },
    {
      "cell_type": "code",
      "execution_count": 48,
      "metadata": {
        "colab": {
          "base_uri": "https://localhost:8080/"
        },
        "id": "E-OIJt5wi5b6",
        "outputId": "c7aed668-1020-4469-d0f1-5a6c434a7ff7"
      },
      "outputs": [
        {
          "output_type": "stream",
          "name": "stdout",
          "text": [
            "[5, 3]\n",
            "Computer card [3]\n",
            "You want to draw another card Y or N->y\n",
            "your cards [5, 3, 10] current score = 18 \n",
            "You want to draw another card Y or N->n\n",
            "Computer won [3, 10, 8]\n"
          ]
        }
      ],
      "source": [
        "# 100 days of python day 10\n",
        "# Black jack game\n",
        "\n",
        "def blackjack(cards):\n",
        "  user_sum=sum(cards)\n",
        "  check=random.choice(card)\n",
        "  if check==11 and user_sum>=11:\n",
        "    check=1\n",
        "    cards.append(check)\n",
        "  else :cards.append(check)\n",
        "  return cards\n",
        "\n",
        "import random\n",
        "card=[11,2,3,4,5,6,7,8,9,10,10,10,10]\n",
        "cards=[]\n",
        "computer=[]\n",
        "computer.append(random.choice(card))\n",
        "cards.append(random.choice(card))\n",
        "cards.append(random.choice(card))\n",
        "print(cards)\n",
        "print(f'Computer card {computer}')\n",
        "user_sum=sum(cards)\n",
        "comp_sum=sum(computer)\n",
        "game_over=False\n",
        "if user_sum==21:\n",
        "  print('Won by blackjack')\n",
        "else:\n",
        "  while game_over!=True:\n",
        "    ask=input('You want to draw another card Y or N->').lower()\n",
        "    if ask=='y':\n",
        "      cards=blackjack(cards)\n",
        "      user_sum=sum(cards)\n",
        "      if user_sum>21:\n",
        "        print(f'You went over {cards} current score = {user_sum}')\n",
        "        game_over=True\n",
        "      else:\n",
        "        print(f'your cards {cards} current score = {user_sum} ')\n",
        "    else:\n",
        "      game_over=True\n",
        "      while comp_sum<17:\n",
        "          a=random.choice(card)\n",
        "          if a==11 and comp_sum>=11:\n",
        "            a=1\n",
        "            computer.append(a)\n",
        "          else :computer.append(a)\n",
        "          comp_sum=sum(computer)\n",
        "      if comp_sum>21:\n",
        "        print('Computer went over you won')\n",
        "      elif comp_sum<user_sum:\n",
        "        print(f'user won Computer  cards {computer}')\n",
        "      elif comp_sum>user_sum:\n",
        "        print(f'Computer won {computer}')\n",
        "      else : print('Draw Computer  cards {computer}')\n",
        "\n",
        "\n",
        "\n",
        "\n",
        "\n",
        "\n"
      ]
    },
    {
      "cell_type": "code",
      "source": [],
      "metadata": {
        "id": "V6luCWHJl-xK"
      },
      "execution_count": null,
      "outputs": []
    }
  ]
}