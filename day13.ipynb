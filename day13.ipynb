{
  "nbformat": 4,
  "nbformat_minor": 0,
  "metadata": {
    "colab": {
      "provenance": [],
      "authorship_tag": "ABX9TyMnfRbXrvqjklAZPa4xXG/j",
      "include_colab_link": true
    },
    "kernelspec": {
      "name": "python3",
      "display_name": "Python 3"
    },
    "language_info": {
      "name": "python"
    }
  },
  "cells": [
    {
      "cell_type": "markdown",
      "metadata": {
        "id": "view-in-github",
        "colab_type": "text"
      },
      "source": [
        "<a href=\"https://colab.research.google.com/github/Adarsh-s-g/100-days-of-python/blob/main/day13.ipynb\" target=\"_parent\"><img src=\"https://colab.research.google.com/assets/colab-badge.svg\" alt=\"Open In Colab\"/></a>"
      ]
    },
    {
      "cell_type": "code",
      "execution_count": 7,
      "metadata": {
        "colab": {
          "base_uri": "https://localhost:8080/"
        },
        "id": "E-OIJt5wi5b6",
        "outputId": "053f6d51-fd6b-4cd9-d1d8-a06b1a27511e"
      },
      "outputs": [
        {
          "output_type": "stream",
          "name": "stdout",
          "text": [
            "What would you like? (espresso/latte/cappuccino): latte\n",
            "how many quarters 12\n",
            "how many dimes 12\n",
            "how many nickles 1\n",
            "how many pennies 12\n",
            "Here's your change 1.87\n",
            "Here is your latte. Enjoy ☕\n",
            "What would you like? (espresso/latte/cappuccino): espresso\n",
            "how many quarters 10\n",
            "how many dimes 1\n",
            "how many nickles 12\n",
            "how many pennies 10\n",
            "Here's your change 1.8\n",
            "Here is your espresso. Enjoy ☕\n",
            "What would you like? (espresso/latte/cappuccino): report\n",
            "water =50ml \n",
            "milk= 50ml\n",
            "coffee = 58gm\n",
            "Total money = 4.0\n",
            "What would you like? (espresso/latte/cappuccino): latte\n",
            "sorry the resource aren't sufficient water 50 \n"
          ]
        }
      ],
      "source": [
        "# 100 days of python day 13\n",
        "# CoFFee Maker\n",
        "\n",
        "menu ={\n",
        "    \"espresso\":{\n",
        "        'ingredients':{\n",
        "            'water':50,\n",
        "            \"coffee\":18,\n",
        "        },\n",
        "        'cost':1.5\n",
        "    },\n",
        "    \"latte\":{\n",
        "        'ingredients':{\n",
        "            'water':200,\n",
        "            'milk':150,\n",
        "            \"coffee\":24,\n",
        "        },\n",
        "        'cost':2.5\n",
        "    },\n",
        "    \"Cappuccino\":{\n",
        "        'ingredients':{\n",
        "            'water':250,\n",
        "            'milk':100,\n",
        "            \"coffee\":24,\n",
        "        },\n",
        "        'cost':3.0\n",
        "    },\n",
        "\n",
        "}\n",
        "profit=0\n",
        "resource={\n",
        "    'water':300,\n",
        "    'milk':200,\n",
        "    'coffee':100,\n",
        "}\n",
        "\n",
        "def is_sufficient(drink,resource):\n",
        "  for i in drink:\n",
        "    if drink[i]<=resource[i]:\n",
        "      return False\n",
        "    else:\n",
        "      print(f\"sorry the resource aren't sufficient {i} {resource[i]} \")\n",
        "      return True\n",
        "  return False\n",
        "\n",
        "def money_sufficient(choice):\n",
        "   total=int(input('how many quarters '))*0.25\n",
        "   total+=int(input('how many dimes '))*0.1\n",
        "   total+=int(input('how many nickles '))*0.05\n",
        "   total+=int(input('how many pennies '))*0.01\n",
        "   global profit\n",
        "   if total>=menu[choice]['cost']:\n",
        "    profit+=menu[choice]['cost']\n",
        "    total=round(total-menu[choice]['cost'],2)\n",
        "    return total\n",
        "   else:\n",
        "    sum=menu[choice]['cost']-total\n",
        "    print(f\"Not enough money you still need ${sum}  Money refunded\")\n",
        "\n",
        "def sub_resource(drink):\n",
        "  for i in drink:\n",
        "    resource[i]-=drink[i]\n",
        "\n",
        "\n",
        "\n",
        "\n",
        "\n",
        "is_coffee=False\n",
        "while is_coffee!=True:\n",
        "  choice=input(\"What would you like? (espresso/latte/cappuccino): \")\n",
        "  if choice=='off':\n",
        "    is_coffee=True\n",
        "  elif choice=='report':\n",
        "    print(f\"water ={resource['water']}ml \")\n",
        "    print(f\"milk= {resource['milk']}ml\")\n",
        "    print(f\"coffee = {resource['coffee']}gm\")\n",
        "    print(f\"Total money = {profit}\")\n",
        "  else:\n",
        "    drink=menu[choice]['ingredients']\n",
        "    is_coffee=is_sufficient(drink,resource)\n",
        "    if is_coffee==False:\n",
        "      total=money_sufficient(choice)\n",
        "      sub_resource(drink)\n",
        "      print(f\"Here's your change {total}\")\n",
        "      print(f'Here is your {choice}. Enjoy ☕')\n",
        "\n",
        "\n",
        "\n",
        "\n",
        "\n",
        "\n",
        "\n",
        "\n"
      ]
    },
    {
      "cell_type": "code",
      "source": [],
      "metadata": {
        "id": "V6luCWHJl-xK"
      },
      "execution_count": null,
      "outputs": []
    }
  ]
}