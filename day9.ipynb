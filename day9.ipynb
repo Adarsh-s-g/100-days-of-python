{
  "nbformat": 4,
  "nbformat_minor": 0,
  "metadata": {
    "colab": {
      "provenance": [],
      "authorship_tag": "ABX9TyPgz/NIMi8NGk4rHIDlh7M0",
      "include_colab_link": true
    },
    "kernelspec": {
      "name": "python3",
      "display_name": "Python 3"
    },
    "language_info": {
      "name": "python"
    }
  },
  "cells": [
    {
      "cell_type": "markdown",
      "metadata": {
        "id": "view-in-github",
        "colab_type": "text"
      },
      "source": [
        "<a href=\"https://colab.research.google.com/github/Adarsh-s-g/100-days-of-python/blob/main/day9.ipynb\" target=\"_parent\"><img src=\"https://colab.research.google.com/assets/colab-badge.svg\" alt=\"Open In Colab\"/></a>"
      ]
    },
    {
      "cell_type": "code",
      "execution_count": 7,
      "metadata": {
        "colab": {
          "base_uri": "https://localhost:8080/"
        },
        "id": "E-OIJt5wi5b6",
        "outputId": "f3b3617f-afc9-47df-cd74-2c667b1d994e"
      },
      "outputs": [
        {
          "name": "stdout",
          "output_type": "stream",
          "text": [
            "Enter the number->2\n",
            "select the operation | * , / , + , - |->+\n",
            "Enter the next number->2\n",
            "2.0 + 2.0 = 4.0\n",
            "Type 'Y' to coniune with 4.0 or 'N' for new calculation->y\n",
            "select the operation | * , / , + , - |->+\n",
            "Enter the next number->2\n",
            "4.0 + 2.0 = 6.0\n",
            "Type 'Y' to coniune with 6.0 or 'N' for new calculation->-\n",
            "select the operation | * , / , + , - |->-\n",
            "Enter the next number->5\n",
            "6.0 - 5.0 = 1.0\n",
            "Type 'Y' to coniune with 1.0 or 'N' for new calculation->y\n",
            "select the operation | * , / , + , - |->-\n",
            "Enter the next number->1\n",
            "1.0 - 1.0 = 0.0\n",
            "Type 'Y' to coniune with 0.0 or 'N' for new calculation->2\n",
            "select the operation | * , / , + , - |->*\n",
            "Enter the next number->6\n",
            "0.0 * 6.0 = 0.0\n",
            "Type 'Y' to coniune with 0.0 or 'N' for new calculation->N\n"
          ]
        }
      ],
      "source": [
        "# 100 days of python day 9\n",
        "#calculator\n",
        "def calculation(number,nxtnum,choice):\n",
        "  if choice=='*':\n",
        "    sum=number*nxtnum\n",
        "  elif choice=='+':\n",
        "    sum=number+nxtnum\n",
        "  elif choice=='-':\n",
        "    sum=number-nxtnum\n",
        "  elif choice=='/':\n",
        "    sum=number/nxtnum\n",
        "  return sum\n",
        "\n",
        "\n",
        "number=float(input('Enter the number->'))\n",
        "stop=False\n",
        "while stop != True:\n",
        "  choice=input('select the operation | * , / , + , - |->')\n",
        "  nxtnum=float(input('Enter the next number->'))\n",
        "  sum=calculation(number,nxtnum,choice)\n",
        "  print(f'{number} {choice} {nxtnum} = {sum}')\n",
        "  want_to_continue=input(f\"Type 'Y' to coniune with {sum} or 'N' for new calculation->\")\n",
        "  if want_to_continue == 'N':\n",
        "    stop=True\n",
        "  else:\n",
        "    number=sum\n",
        "\n",
        "\n",
        "\n",
        "\n"
      ]
    },
    {
      "cell_type": "code",
      "source": [],
      "metadata": {
        "id": "V6luCWHJl-xK"
      },
      "execution_count": null,
      "outputs": []
    }
  ]
}