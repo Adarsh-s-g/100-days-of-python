{
  "nbformat": 4,
  "nbformat_minor": 0,
  "metadata": {
    "colab": {
      "provenance": [],
      "authorship_tag": "ABX9TyPPa1KTHYJ4G3+yRAaToN4/",
      "include_colab_link": true
    },
    "kernelspec": {
      "name": "python3",
      "display_name": "Python 3"
    },
    "language_info": {
      "name": "python"
    }
  },
  "cells": [
    {
      "cell_type": "markdown",
      "metadata": {
        "id": "view-in-github",
        "colab_type": "text"
      },
      "source": [
        "<a href=\"https://colab.research.google.com/github/Adarsh-s-g/100-days-of-python/blob/main/day5.ipynb\" target=\"_parent\"><img src=\"https://colab.research.google.com/assets/colab-badge.svg\" alt=\"Open In Colab\"/></a>"
      ]
    },
    {
      "cell_type": "code",
      "execution_count": 19,
      "metadata": {
        "colab": {
          "base_uri": "https://localhost:8080/"
        },
        "id": "E-OIJt5wi5b6",
        "outputId": "ff056edc-b5ab-4ff3-eb5f-ebb11e41597e"
      },
      "outputs": [
        {
          "output_type": "stream",
          "name": "stdout",
          "text": [
            "Enter the letters you want to have in password ->5\n",
            "Enter the numbers you want to have in password ->1\n",
            "Enter the symobls you want to have in password ->1\n",
            "6c&yjVu\n"
          ]
        }
      ],
      "source": [
        "# 100 days of python day 5\n",
        "# password generater\n",
        "letters = [\n",
        "    'a', 'b', 'c', 'd', 'e', 'f', 'g', 'h', 'i', 'j', 'k', 'l', 'm',\n",
        "    'n', 'o', 'p', 'q', 'r', 's', 't', 'u', 'v', 'w', 'x', 'y', 'z',\n",
        "    'A', 'B', 'C', 'D', 'E', 'F', 'G', 'H', 'I', 'J', 'K', 'L', 'M',\n",
        "    'N', 'O', 'P', 'Q', 'R', 'S', 'T', 'U', 'V', 'W', 'X', 'Y', 'Z'\n",
        "]\n",
        "symbols = [\n",
        "    '!', '\"', '#', '$', '%', '&', \"'\", '(', ')', '*', '+', ',', '-',\n",
        "    '.', '/', ':', ';', '<', '=', '>', '?', '@', '[', '\\\\', ']', '^',\n",
        "    '_', '`', '{', '|', '}', '~'\n",
        "]\n",
        "numbers = ['0', '1', '2', '3', '4', '5', '6', '7', '8', '9']\n",
        "\n",
        "let=int(input(\"Enter the letters you want to have in password ->\"))\n",
        "num=int(input('Enter the numbers you want to have in password ->'))\n",
        "sym=int(input('Enter the symobls you want to have in password ->'))\n",
        "import random\n",
        "passwords=\"\"\n",
        "password=[]\n",
        "for i in range(0,let):\n",
        "  password.append(random.choice(letters))\n",
        "for i in range(0,num):\n",
        "  password.append(random.choice(numbers))\n",
        "for i in range(0,sym):\n",
        "  password.append(random.choice(symbols))\n",
        "random.shuffle(password)\n",
        "for i in password:\n",
        "  passwords+=i\n",
        "print(passwords)\n",
        "\n",
        "\n",
        "\n"
      ]
    },
    {
      "cell_type": "code",
      "source": [],
      "metadata": {
        "id": "V6luCWHJl-xK"
      },
      "execution_count": null,
      "outputs": []
    }
  ]
}