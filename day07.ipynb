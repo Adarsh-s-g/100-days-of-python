{
  "nbformat": 4,
  "nbformat_minor": 0,
  "metadata": {
    "colab": {
      "provenance": [],
      "authorship_tag": "ABX9TyMqz3sLlrcVV0NORw8qzman",
      "include_colab_link": true
    },
    "kernelspec": {
      "name": "python3",
      "display_name": "Python 3"
    },
    "language_info": {
      "name": "python"
    }
  },
  "cells": [
    {
      "cell_type": "markdown",
      "metadata": {
        "id": "view-in-github",
        "colab_type": "text"
      },
      "source": [
        "<a href=\"https://colab.research.google.com/github/Adarsh-s-g/100-days-of-python/blob/main/day7.ipynb\" target=\"_parent\"><img src=\"https://colab.research.google.com/assets/colab-badge.svg\" alt=\"Open In Colab\"/></a>"
      ]
    },
    {
      "cell_type": "code",
      "execution_count": 5,
      "metadata": {
        "colab": {
          "base_uri": "https://localhost:8080/"
        },
        "id": "E-OIJt5wi5b6",
        "outputId": "67d1279e-9be2-458e-892a-99368566ec4b"
      },
      "outputs": [
        {
          "name": "stdout",
          "output_type": "stream",
          "text": [
            "Enter encode to encrypt and decode to decrpyt - >decode\n",
            "Enter the message ->bebsti\n",
            "Enter the shift you want ->1\n",
            "Your  message adarsh\n",
            "Enter y to contine or n to stop y/n ->n\n"
          ]
        }
      ],
      "source": [
        "# 100 days of python day 7\n",
        "# cipher\n",
        "# def encrypt():\n",
        "#   alphabets = ['a', 'b', 'c', 'd', 'e', 'f', 'g', 'h', 'i', 'j', 'k', 'l', 'm', 'n', 'o', 'p', 'q', 'r', 's', 't', 'u', 'v', 'w', 'x', 'y', 'z']\n",
        "#   message=input('Enter the message -> ')\n",
        "#   shift=int(input('Enter the shift -> '))\n",
        "#   new_m=''\n",
        "#   for i in message:\n",
        "#     new_m+=alphabets[((alphabets.index(i)+ shift) % 26)]\n",
        "#   print(new_m)\n",
        "\n",
        "\n",
        "# def decrypt():\n",
        "#   alphabets = ['a', 'b', 'c', 'd', 'e', 'f', 'g', 'h', 'i', 'j', 'k', 'l', 'm', 'n', 'o', 'p', 'q', 'r', 's', 't', 'u', 'v', 'w', 'x', 'y', 'z']\n",
        "#   message=input('Enter the message -> ')\n",
        "#   shift=int(input('Enter the shift -> '))\n",
        "#   new_m=''\n",
        "#   for i in message:\n",
        "#     new_m+=alphabets[(alphabets.index(i) - shift )]\n",
        "#   print(new_m)\n",
        "\n",
        "# stop=False\n",
        "# while stop != True:\n",
        "#   select=input('Enter encode to encrypt and decode to decrpyt - >').lower()\n",
        "#   if select=='encode':\n",
        "#     encrypt()\n",
        "#   elif select=='decode':\n",
        "#     decrypt()\n",
        "#   else:\n",
        "#     print('Invalid input')\n",
        "#   conti=input(\"Enter y to contine or n to stop y/n ->\").lower()\n",
        "#   if conti=='y':\n",
        "#     continue\n",
        "#   elif conti=='n':\n",
        "#     stop=True\n",
        "#     break\n",
        "#   else:\n",
        "#     print('invalid input')\n",
        "#     stop=True\n",
        "\n",
        "\n",
        "# alphabets = ['a', 'b', 'c', 'd', 'e', 'f', 'g', 'h', 'i', 'j', 'k', 'l', 'm', 'n', 'o', 'p', 'q', 'r', 's', 't', 'u', 'v', 'w', 'x', 'y', 'z']\n",
        "# choose=input('Do you want to encode or decode??->')\n",
        "# message=input('Enter the message ->')\n",
        "# shift=int(input('Enter the shift you want ->'))\n",
        "\n",
        "# def encode(message,shift):\n",
        "#   output=''\n",
        "#   for i in message:\n",
        "#     output+=alphabets[alphabets.index(i)+shift % 26]\n",
        "#   print(f'Your encoded message {output}')\n",
        "# def decode(message,shift):\n",
        "#   output=''\n",
        "#   for i in message:\n",
        "#     output+=alphabets[alphabets.index(i)-shift % 26]\n",
        "#   print(f'Your encoded message {output}')\n",
        "\n",
        "# alphabets = ['a', 'b', 'c', 'd', 'e', 'f', 'g', 'h', 'i', 'j', 'k', 'l', 'm', 'n', 'o', 'p', 'q', 'r', 's', 't', 'u', 'v', 'w', 'x', 'y', 'z']\n",
        "# stop=False\n",
        "# while stop != True:\n",
        "#   select=input('Enter encode to encrypt and decode to decrpyt - >').lower()\n",
        "#   message=input('Enter the message ->')\n",
        "#   shift=int(input('Enter the shift you want ->'))\n",
        "#   if select=='encode':\n",
        "#     encode(message,shift=shift)\n",
        "#   elif select=='decode':\n",
        "#     decode(message,shift)\n",
        "#   else:\n",
        "#     print('Invalid input')\n",
        "#   conti=input(\"Enter y to contine or n to stop y/n ->\").lower()\n",
        "#   if conti=='y':\n",
        "#     continue\n",
        "#   elif conti=='n':\n",
        "#     stop=True\n",
        "#     break\n",
        "#   else:\n",
        "#     print('invalid input')\n",
        "#     stop=True\n",
        "\n",
        "\n",
        "def encode_or_decode(choose,message,shift):\n",
        "  output=''\n",
        "  if choose == 'decode':\n",
        "    shift*=-1\n",
        "  for i in message:\n",
        "    output+=alphabets[(alphabets.index(i)+shift) % 26]\n",
        "  print(f'Your  message {output}')\n",
        "\n",
        "\n",
        "alphabets = ['a', 'b', 'c', 'd', 'e', 'f', 'g', 'h', 'i', 'j', 'k', 'l', 'm', 'n', 'o', 'p', 'q', 'r', 's', 't', 'u', 'v', 'w', 'x', 'y', 'z']\n",
        "stop=False\n",
        "while stop != True:\n",
        "  select=input('Enter encode to encrypt and decode to decrpyt - >').lower()\n",
        "  message=input('Enter the message ->')\n",
        "  shift=int(input('Enter the shift you want ->'))\n",
        "  encode_or_decode(select,message,shift)\n",
        "  conti=input(\"Enter y to contine or n to stop y/n ->\").lower()\n",
        "  if conti=='y':\n",
        "    continue\n",
        "  elif conti=='n':\n",
        "    stop=True\n",
        "    break\n",
        "  else:\n",
        "    print('invalid input')\n",
        "    stop=True\n",
        "\n",
        "\n",
        "\n",
        "\n"
      ]
    },
    {
      "cell_type": "code",
      "source": [],
      "metadata": {
        "id": "V6luCWHJl-xK"
      },
      "execution_count": null,
      "outputs": []
    }
  ]
}
