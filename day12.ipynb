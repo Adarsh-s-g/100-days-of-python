{
  "nbformat": 4,
  "nbformat_minor": 0,
  "metadata": {
    "colab": {
      "provenance": [],
      "authorship_tag": "ABX9TyNx37ZUiB2u7eKz6Yh0drrb",
      "include_colab_link": true
    },
    "kernelspec": {
      "name": "python3",
      "display_name": "Python 3"
    },
    "language_info": {
      "name": "python"
    }
  },
  "cells": [
    {
      "cell_type": "markdown",
      "metadata": {
        "id": "view-in-github",
        "colab_type": "text"
      },
      "source": [
        "<a href=\"https://colab.research.google.com/github/Adarsh-s-g/100-days-of-python/blob/main/day12.ipynb\" target=\"_parent\"><img src=\"https://colab.research.google.com/assets/colab-badge.svg\" alt=\"Open In Colab\"/></a>"
      ]
    },
    {
      "cell_type": "code",
      "execution_count": 38,
      "metadata": {
        "colab": {
          "base_uri": "https://localhost:8080/"
        },
        "id": "E-OIJt5wi5b6",
        "outputId": "8ba70413-c5db-43ab-88cb-9ebb47c5b180"
      },
      "outputs": [
        {
          "output_type": "stream",
          "name": "stdout",
          "text": [
            "which is greater PewDiePie or Kids Diana Show A or B ->b\n",
            "Correct!!\n",
            "which is greater Kids Diana Show or Ed Sheeran A or B ->a\n",
            "Correct!\n",
            "which is greater Ed Sheeran or Dude Perfect A or B ->b\n",
            "Correct!!\n",
            "which is greater Dude Perfect or 5-Minute Crafts A or B ->b\n",
            "Correct!!\n",
            "which is greater 5-Minute Crafts or Marshmello A or B ->a\n",
            "Correct!\n",
            "which is greater Marshmello or Kids Diana Show A or B ->a\n",
            "You lost\n",
            "The final score = 5\n"
          ]
        }
      ],
      "source": [
        "# 100 days of python day 12\n",
        "# Higher lower game\n",
        "channels = [\n",
        "    {\"name\": \"T-Series\", \"subscribers\": 251},\n",
        "    {\"name\": \"Cocomelon\", \"subscribers\": 168},\n",
        "    {\"name\": \"SET India\", \"subscribers\": 155},\n",
        "    {\"name\": \"MrBeast\", \"subscribers\": 176},\n",
        "    {\"name\": \"PewDiePie\", \"subscribers\": 111},\n",
        "    {\"name\": \"Like Nastya\", \"subscribers\": 108},\n",
        "    {\"name\": \"Kids Diana Show\", \"subscribers\": 112},\n",
        "    {\"name\": \"5-Minute Crafts\", \"subscribers\": 78},\n",
        "    {\"name\": \"WWE\", \"subscribers\": 96},\n",
        "    {\"name\": \"Dude Perfect\", \"subscribers\": 61},\n",
        "    {\"name\": \"Vlad and Niki\", \"subscribers\": 98},\n",
        "    {\"name\": \"BLACKPINK\", \"subscribers\": 93},\n",
        "    {\"name\": \"Justin Bieber\", \"subscribers\": 72},\n",
        "    {\"name\": \"Marshmello\", \"subscribers\": 59},\n",
        "    {\"name\": \"Ed Sheeran\", \"subscribers\": 54},\n",
        "    {\"name\": \"Ariana Grande\", \"subscribers\": 55}\n",
        "]\n",
        "\n",
        "import random\n",
        "def game():\n",
        "  A=random.choice(channels)\n",
        "  B=random.choice(channels)\n",
        "  game_over=False\n",
        "  total=0\n",
        "  while game_over !=True:\n",
        "    first=A['name']\n",
        "    second=B['name']\n",
        "    ask=input(f'which is greater {first} or {second} A or B ->').lower()\n",
        "    if ask==\"a\" and (A['subscribers']>=B['subscribers']):\n",
        "      print('Correct!')\n",
        "      A=B\n",
        "      B=random.choice(channels)\n",
        "      total+=1\n",
        "    elif ask==\"b\" and (A['subscribers']<=B['subscribers']):\n",
        "      print('Correct!!')\n",
        "      A=B\n",
        "      B=random.choice(channels)\n",
        "      total+=1\n",
        "\n",
        "    else:\n",
        "      print('You lost')\n",
        "      game_over=True\n",
        "  print(f'The final score = {total}')\n",
        "\n",
        "\n",
        "play_again=True\n",
        "while play_again != False:\n",
        "  game()\n",
        "  user_input=input(\"want to play again y or n \").lower()\n",
        "  if user_input=='n':\n",
        "    play_again=False\n",
        "\n",
        "\n",
        "\n"
      ]
    },
    {
      "cell_type": "code",
      "source": [],
      "metadata": {
        "id": "V6luCWHJl-xK"
      },
      "execution_count": null,
      "outputs": []
    }
  ]
}